{
 "cells": [
  {
   "cell_type": "markdown",
   "id": "65d92516-d208-4418-b3fe-8d6b6a78e78d",
   "metadata": {},
   "source": [
    "# Assignment"
   ]
  },
  {
   "cell_type": "markdown",
   "id": "879c7089-7368-498f-84b3-5163ff955e26",
   "metadata": {},
   "source": [
    "### Question 1 :- Q1. Create a python program to sort the given list of tuples based on integer value using a lambda function.\n",
    "#### [('Sachin Tendulkar', 34357), ('Ricky Ponting', 27483), ('Jack Kallis', 25534), ('Virat Kohli', 24936)]"
   ]
  },
  {
   "cell_type": "markdown",
   "id": "49b6bb0a-3259-4ab0-9ac0-6d10f5dbb96b",
   "metadata": {},
   "source": [
    "#### Answer:-"
   ]
  },
  {
   "cell_type": "code",
   "execution_count": 10,
   "id": "12f3f971-3cb6-461d-b834-1a1141c99516",
   "metadata": {},
   "outputs": [],
   "source": [
    "l=[('Sachin Tendulkar', 34357), ('Ricky Ponting', 27483), ('Jack Kallis', 25534), ('Virat Kohli', 24936)]"
   ]
  },
  {
   "cell_type": "code",
   "execution_count": 16,
   "id": "ae592520-670b-400a-9849-ddf0d98890ba",
   "metadata": {},
   "outputs": [],
   "source": [
    "sorted_list = sorted(l, key=lambda x : x[1])"
   ]
  },
  {
   "cell_type": "code",
   "execution_count": 18,
   "id": "a8823690-613e-4200-8656-a06cc4fc0314",
   "metadata": {},
   "outputs": [
    {
     "data": {
      "text/plain": [
       "[('Virat Kohli', 24936),\n",
       " ('Jack Kallis', 25534),\n",
       " ('Ricky Ponting', 27483),\n",
       " ('Sachin Tendulkar', 34357)]"
      ]
     },
     "execution_count": 18,
     "metadata": {},
     "output_type": "execute_result"
    }
   ],
   "source": [
    "sorted_list"
   ]
  },
  {
   "cell_type": "markdown",
   "id": "2b1d1084-c551-4156-8508-336b15c2c9d5",
   "metadata": {},
   "source": [
    "### Question 2 :-  Write a Python Program to find the squares of all the numbers in the given list of integers using lambda and map functions.\n",
    "#### [1, 2, 3, 4, 5, 6, 7, 8, 9, 10]"
   ]
  },
  {
   "cell_type": "markdown",
   "id": "147a542e-fb0e-43f5-96b8-289c92051ec5",
   "metadata": {},
   "source": [
    "#### Answer:-"
   ]
  },
  {
   "cell_type": "code",
   "execution_count": 21,
   "id": "97f3e80d-0db2-4cde-a9d2-0a51a81d553c",
   "metadata": {},
   "outputs": [
    {
     "data": {
      "text/plain": [
       "[1, 4, 9, 16, 25, 36, 49, 64, 81, 100]"
      ]
     },
     "execution_count": 21,
     "metadata": {},
     "output_type": "execute_result"
    }
   ],
   "source": [
    "l1=[1, 2, 3, 4, 5, 6, 7, 8, 9, 10]\n",
    "\n",
    "list(map(lambda x : x**2,l1))"
   ]
  },
  {
   "cell_type": "markdown",
   "id": "7912cd8c-b53d-429c-ac53-be3c580404ec",
   "metadata": {},
   "source": [
    "### Question 3 :- Q3. Write a python program to convert the given list of integers into a tuple of strings. Use map and lambda functions.\n",
    "#### Given String: [1, 2, 3, 4, 5, 6, 7, 8, 9, 10]\n",
    "#### Expected output: ('1', '2', '3', '4', '5', '6', '7', '8', '9', '10')"
   ]
  },
  {
   "cell_type": "code",
   "execution_count": 22,
   "id": "eb88cd12-459f-4e5f-bb37-37b2d55a50c4",
   "metadata": {},
   "outputs": [],
   "source": [
    "string =[1,2,3,4,5,6,7,8,9,10]"
   ]
  },
  {
   "cell_type": "code",
   "execution_count": 27,
   "id": "010e420f-3768-449a-8867-e7de0ec1f30a",
   "metadata": {},
   "outputs": [
    {
     "data": {
      "text/plain": [
       "('1', '2', '3', '4', '5', '6', '7', '8', '9', '10')"
      ]
     },
     "execution_count": 27,
     "metadata": {},
     "output_type": "execute_result"
    }
   ],
   "source": [
    "tuple(map(lambda x : str(x),string))"
   ]
  },
  {
   "cell_type": "markdown",
   "id": "8a973364-1e8d-411d-96c0-762be650181e",
   "metadata": {},
   "source": [
    "### Question 4:- Q4. Write a python program using reduce function to compute the product of a list containing numbers from 1 to 25."
   ]
  },
  {
   "cell_type": "markdown",
   "id": "924c394d-bcba-41dc-9d5c-19446d6d6836",
   "metadata": {},
   "source": [
    "#### Answer:-"
   ]
  },
  {
   "cell_type": "code",
   "execution_count": 28,
   "id": "3eb3b705-4d59-43e3-87ff-8ac2cf13535f",
   "metadata": {},
   "outputs": [
    {
     "name": "stdout",
     "output_type": "stream",
     "text": [
      "[1, 2, 3, 4, 5, 6, 7, 8, 9, 10, 11, 12, 13, 14, 15, 16, 17, 18, 19, 20, 21, 22, 23, 24, 25]\n"
     ]
    }
   ],
   "source": [
    "list1=[]\n",
    "for i in range(1,26):\n",
    "    list1.append(i)\n",
    "print(list1)\n"
   ]
  },
  {
   "cell_type": "code",
   "execution_count": 33,
   "id": "18ffcd16-1925-4da6-b9aa-b2dcbd0d7827",
   "metadata": {},
   "outputs": [
    {
     "data": {
      "text/plain": [
       "15511210043330985984000000"
      ]
     },
     "execution_count": 33,
     "metadata": {},
     "output_type": "execute_result"
    }
   ],
   "source": [
    "from functools import reduce\n",
    "\n",
    "reduce( lambda x,y : x*y, list1 ) "
   ]
  },
  {
   "cell_type": "markdown",
   "id": "15ecebf0-3256-445e-bc0b-319b59924d39",
   "metadata": {},
   "source": [
    "### Question 5 :- Q5. Write a python program to filter the numbers in a given list that are divisible by 2 and 3 using the filter function.\n",
    "#### [2, 3, 6, 9, 27, 60, 90, 120, 55, 46]"
   ]
  },
  {
   "cell_type": "markdown",
   "id": "4a3020d9-809f-4d16-8ce9-2b782d509297",
   "metadata": {},
   "source": [
    "#### Answer:-"
   ]
  },
  {
   "cell_type": "code",
   "execution_count": 34,
   "id": "c851a739-b5f3-46ec-a0dc-1804c2e6966b",
   "metadata": {},
   "outputs": [],
   "source": [
    "list2=[2, 3, 6, 9, 27, 60, 90, 120, 55, 46]"
   ]
  },
  {
   "cell_type": "code",
   "execution_count": 37,
   "id": "f0bc4103-380c-4766-96e0-849a8da27c35",
   "metadata": {},
   "outputs": [
    {
     "data": {
      "text/plain": [
       "[6, 60, 90, 120]"
      ]
     },
     "execution_count": 37,
     "metadata": {},
     "output_type": "execute_result"
    }
   ],
   "source": [
    "list(filter(lambda x : x%2==0 and x%3==0 ,list2))"
   ]
  },
  {
   "cell_type": "markdown",
   "id": "49fcfe9a-20cf-475c-818d-b62fa3c0d897",
   "metadata": {},
   "source": [
    "### Question 6 :- Q6. Write a python program to find palindromes in the given list of strings using lambda and filter function.\n",
    "#### ['python', 'php', 'aba', 'radar', 'level']"
   ]
  },
  {
   "cell_type": "code",
   "execution_count": 38,
   "id": "967b7b4a-443a-495a-a2ed-bf9ec3432bd7",
   "metadata": {},
   "outputs": [
    {
     "data": {
      "text/plain": [
       "['php', 'aba', 'radar', 'level']"
      ]
     },
     "execution_count": 38,
     "metadata": {},
     "output_type": "execute_result"
    }
   ],
   "source": [
    "listpal = ['python', 'php', 'aba', 'radar', 'level']\n",
    "list(filter(lambda x: (x == \"\".join(reversed(x))),listpal)) "
   ]
  },
  {
   "cell_type": "code",
   "execution_count": null,
   "id": "432f0a58-788e-49d3-98f5-28b6930e6bd7",
   "metadata": {},
   "outputs": [],
   "source": []
  },
  {
   "cell_type": "code",
   "execution_count": null,
   "id": "e9ffba73-84bb-4a6f-9b95-e740bcdeb53e",
   "metadata": {},
   "outputs": [],
   "source": []
  }
 ],
 "metadata": {
  "kernelspec": {
   "display_name": "Python 3 (ipykernel)",
   "language": "python",
   "name": "python3"
  },
  "language_info": {
   "codemirror_mode": {
    "name": "ipython",
    "version": 3
   },
   "file_extension": ".py",
   "mimetype": "text/x-python",
   "name": "python",
   "nbconvert_exporter": "python",
   "pygments_lexer": "ipython3",
   "version": "3.10.8"
  }
 },
 "nbformat": 4,
 "nbformat_minor": 5
}
